{
 "cells": [
  {
   "cell_type": "code",
   "execution_count": 10,
   "metadata": {},
   "outputs": [],
   "source": [
    "import numpy as np\n",
    "import pandas as pd\n",
    "import os\n",
    "from sklearn.metrics import mean_squared_error"
   ]
  },
  {
   "cell_type": "code",
   "execution_count": 11,
   "metadata": {},
   "outputs": [],
   "source": [
    "def correlation_score(y_true, y_pred):\n",
    "    \"\"\"Scores the predictions according to the competition rules. \n",
    "    \n",
    "    It is assumed that the predictions are not constant.\n",
    "    \n",
    "    Returns the average of each sample's Pearson correlation coefficient\"\"\"\n",
    "    if type(y_true) == pd.DataFrame: y_true = y_true.values\n",
    "    if type(y_pred) == pd.DataFrame: y_pred = y_pred.values\n",
    "    corrsum = 0\n",
    "    for i in range(len(y_true)):\n",
    "        corrsum += np.corrcoef(y_true[i], y_pred[i])[1, 0]\n",
    "    return corrsum / len(y_true)"
   ]
  },
  {
   "cell_type": "code",
   "execution_count": 12,
   "metadata": {},
   "outputs": [],
   "source": [
    "DATA_DIR = \"../data/open-problems-multimodal/\"\n",
    "\n",
    "\n",
    "FP_CITE_TEST_TARGETS = os.path.join(DATA_DIR,\"cite_day4_target.h5\")\n"
   ]
  },
  {
   "cell_type": "code",
   "execution_count": 13,
   "metadata": {},
   "outputs": [
    {
     "name": "stdout",
     "output_type": "stream",
     "text": [
      "0.97\n",
      "2.6483905844935305\n",
      "0.8910035839045417\n"
     ]
    }
   ],
   "source": [
    "import math\n",
    "import torch\n",
    "from sklearn.metrics import roc_auc_score\n",
    "cite_test_y = pd.read_hdf(FP_CITE_TEST_TARGETS).values\n",
    "\n",
    "test_pred1 = np.load(\"sub_preds.npy\")\n",
    "test_pred2 = np.load(\"cite_lgb.npy\")\n",
    "all = []\n",
    "\n",
    "for w in np.arange(0,1,0.01):\n",
    "    ensemble_pred = w * test_pred1 + (1-w) * test_pred2\n",
    "    ensemble_auc = correlation_score(cite_test_y , ensemble_pred)\n",
    "    all.append( ensemble_auc )\n",
    "best_weight = np.argmax( all )/100\n",
    "print(best_weight)\n",
    "\n",
    "ensemble_pred = best_weight * test_pred1 + (1-best_weight) * test_pred2\n",
    "\n",
    "\n",
    "ensemble_pred = torch.as_tensor(ensemble_pred, dtype=None, device='cuda')\n",
    "cite_test_y = torch.as_tensor(cite_test_y, dtype=None, device='cuda')\n",
    "\n",
    "\n",
    "import torch.nn as nn\n",
    "mse = nn.MSELoss()\n",
    "score = math.sqrt(mse(ensemble_pred,cite_test_y))\n",
    "print(score)\n",
    "corrscore = correlation_score(cite_test_y.cpu(),ensemble_pred.cpu())\n",
    "print(corrscore)"
   ]
  }
 ],
 "metadata": {
  "kernelspec": {
   "display_name": "base",
   "language": "python",
   "name": "python3"
  },
  "language_info": {
   "codemirror_mode": {
    "name": "ipython",
    "version": 3
   },
   "file_extension": ".py",
   "mimetype": "text/x-python",
   "name": "python",
   "nbconvert_exporter": "python",
   "pygments_lexer": "ipython3",
   "version": "3.9.18"
  }
 },
 "nbformat": 4,
 "nbformat_minor": 2
}
